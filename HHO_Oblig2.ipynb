{
 "cells": [
  {
   "cell_type": "markdown",
   "metadata": {},
   "source": [
    "# 1. Frame the problem"
   ]
  },
  {
   "cell_type": "code",
   "execution_count": 1,
   "metadata": {},
   "outputs": [
    {
     "ename": "SyntaxError",
     "evalue": "invalid syntax (<ipython-input-1-e312f909f0ec>, line 1)",
     "output_type": "error",
     "traceback": [
      "\u001b[1;36m  File \u001b[1;32m\"<ipython-input-1-e312f909f0ec>\"\u001b[1;36m, line \u001b[1;32m1\u001b[0m\n\u001b[1;33m    av Henrik Olsgaard\u001b[0m\n\u001b[1;37m            ^\u001b[0m\n\u001b[1;31mSyntaxError\u001b[0m\u001b[1;31m:\u001b[0m invalid syntax\n"
     ]
    }
   ],
   "source": [
    "av Henrik Olsgaard\n",
    "\n",
    "\n",
    "Jobbet sammen med: Elisabeth Hovden"
   ]
  },
  {
   "cell_type": "markdown",
   "metadata": {},
   "source": [
    "I denne oppgaven har vi tatt utgangspunkt i et datasett hentet fra kaggle.com som går ut på å forutse boligpriser. Målet er å lage en modell som estimerer boligpriser utifra ulike egenskaper vi har fått oppgitt i det gitte datasettet. Vi har allerede fått oppgitt prisen de ulike husene har blitt solgt for, slik at forholdene mellom denne prisen og prisen som modellen anslår vil gi en indikasjon på hvor god modellen er. "
   ]
  },
  {
   "cell_type": "markdown",
   "metadata": {},
   "source": [
    "### Setup"
   ]
  },
  {
   "cell_type": "code",
   "execution_count": null,
   "metadata": {},
   "outputs": [],
   "source": [
    "import pandas as pd\n",
    "import numpy as np\n",
    "import matplotlib.pyplot as plt\n",
    "import matplotlib\n",
    "import sklearn\n",
    "\n",
    "\n",
    "#Visningsinnstillinger for pandas når vi skal se visualisere dataene\n",
    "#Dersom vi ikke gjør dette vil pandas kun vise deler av dataene (en kompirmert versjon)\n",
    "pd.set_option('display.max_rows', 500)\n",
    "pd.set_option('display.max_columns', 100)\n",
    "pd.set_option('display.width', 900)"
   ]
  },
  {
   "cell_type": "code",
   "execution_count": null,
   "metadata": {},
   "outputs": [],
   "source": [
    "seed = 42\n",
    "np.random.seed(seed)"
   ]
  },
  {
   "cell_type": "markdown",
   "metadata": {},
   "source": [
    "### Beskrivelse av features ifra datasettet til kaggle.com\n",
    "\n",
    "-  SalePrice - the property's sale price in dollars. This is the target variable that you're trying to predict.\n",
    "- MSSubClass: The building class\n",
    "- MSZoning: The general zoning classification\n",
    "- LotFrontage: Linear feet of street connected to property\n",
    "- LotArea: Lot size in square feet\n",
    "- Street: Type of road access\n",
    "- Alley: Type of alley access\n",
    "- LotShape: General shape of property\n",
    "- LandContour: Flatness of the property\n",
    "- Utilities: Type of utilities available\n",
    "- LotConfig: Lot configuration\n",
    "- LandSlope: Slope of property\n",
    "- Neighborhood: Physical locations within Ames city limits\n",
    "- Condition1: Proximity to main road or railroad\n",
    "- Condition2: Proximity to main road or railroad (if a second is present)\n",
    "- BldgType: Type of dwelling\n",
    "- HouseStyle: Style of dwelling\n",
    "- OverallQual: Overall material and finish quality\n",
    "- OverallCond: Overall condition rating\n",
    "- YearBuilt: Original construction date\n",
    "- YearRemodAdd: Remodel date\n",
    "- RoofStyle: Type of roof\n",
    "- RoofMatl: Roof material\n",
    "- Exterior1st: Exterior covering on house\n",
    "- Exterior2nd: Exterior covering on house (if more than one material)\n",
    "- MasVnrType: Masonry veneer type\n",
    "- MasVnrArea: Masonry veneer area in square feet\n",
    "-  ExterQual: Exterior material quality\n",
    "- ExterCond: Present condition of the material on the exterior\n",
    "- Foundation: Type of foundation\n",
    "- BsmtQual: Height of the basement\n",
    "- BsmtCond: General condition of the basement\n",
    "- BsmtExposure: Walkout or garden level basement walls\n",
    "- BsmtFinType1: Quality of basement finished area\n",
    "- BsmtFinSF1: Type 1 finished square feet\n",
    "- BsmtFinType2: Quality of second finished area (if present)\n",
    "- BsmtFinSF2: Type 2 finished square feet\n",
    "- BsmtUnfSF: Unfinished square feet of basement area\n",
    "- TotalBsmtSF: Total square feet of basement area\n",
    "- Heating: Type of heating\n",
    "- HeatingQC: Heating quality and condition\n",
    "- CentralAir: Central air conditioning\n",
    "- Electrical: Electrical system\n",
    "- 1stFlrSF: First Floor square feet\n",
    "- 2ndFlrSF: Second floor square feet\n",
    "- LowQualFinSF: Low quality finished square feet (all floors)\n",
    "- GrLivArea: Above grade (ground) living area square feet\n",
    "- BsmtFullBath: Basement full bathrooms\n",
    "- BsmtHalfBath: Basement half bathrooms\n",
    "- FullBath: Full bathrooms above grade\n",
    "- HalfBath: Half baths above grade\n",
    "- Bedroom: Number of bedrooms above basement level\n",
    "- Kitchen: Number of kitchens\n",
    "- KitchenQual: Kitchen quality\n",
    "- TotRmsAbvGrd: Total rooms above grade (does not include bathrooms)\n",
    "- Functional: Home functionality rating\n",
    "- Fireplaces: Number of fireplaces\n",
    "- FireplaceQu: Fireplace quality\n",
    "- GarageType: Garage location\n",
    "- GarageYrBlt: Year garage was built\n",
    "- GarageFinish: Interior finish of the garage\n",
    "- GarageCars: Size of garage in car capacity\n",
    "- GarageArea: Size of garage in square feet\n",
    "- GarageQual: Garage quality\n",
    "- GarageCond: Garage condition\n",
    "- PavedDrive: Paved driveway\n",
    "- WoodDeckSF: Wood deck area in square feet\n",
    "- OpenPorchSF: Open porch area in square feet\n",
    "- EnclosedPorch: Enclosed porch area in square feet\n",
    "- 3SsnPorch: Three season porch area in square feet\n",
    "- ScreenPorch: Screen porch area in square feet\n",
    "- PoolArea: Pool area in square feet\n",
    "- PoolQC: Pool quality\n",
    "- Fence: Fence quality\n",
    "- MiscFeature: Miscellaneous feature not covered in other categories\n",
    "- MiscVal: $Value of miscellaneous feature\n",
    "- MoSold: Month Sold\n",
    "- YrSold: Year Sold\n",
    "- SaleType: Type of sale\n",
    "- SaleCondition: Condition of sale\n"
   ]
  },
  {
   "cell_type": "markdown",
   "metadata": {},
   "source": [
    "___________________________________"
   ]
  },
  {
   "cell_type": "markdown",
   "metadata": {},
   "source": [
    "# 2. Datafetching"
   ]
  },
  {
   "cell_type": "markdown",
   "metadata": {},
   "source": [
    "I denne denne delen definerer vi en metode for å hente ut dataene. \n",
    "Grunnen til av gjør dette som en egen metode, er for å lettere se hva som blir gjort. \n",
    "Det er viktig at vi kun bruker train.csv filen og ikke test.csv filen.\n"
   ]
  },
  {
   "cell_type": "markdown",
   "metadata": {},
   "source": [
    "___________________________________________________________________"
   ]
  },
  {
   "cell_type": "code",
   "execution_count": null,
   "metadata": {},
   "outputs": [],
   "source": [
    "def load_data():\n",
    "    housing_file_path = 'datasets/train.csv'\n",
    "    return pd.read_csv(housing_file_path)"
   ]
  },
  {
   "cell_type": "markdown",
   "metadata": {},
   "source": [
    "Lagrer filen i en variabel"
   ]
  },
  {
   "cell_type": "code",
   "execution_count": null,
   "metadata": {},
   "outputs": [],
   "source": [
    "housing_data = load_data()"
   ]
  },
  {
   "cell_type": "markdown",
   "metadata": {},
   "source": [
    "______________"
   ]
  },
  {
   "cell_type": "markdown",
   "metadata": {},
   "source": [
    "# 3. Data exploration\n",
    "\n"
   ]
  },
  {
   "cell_type": "markdown",
   "metadata": {},
   "source": [
    "Først tar vi en utskrift av metoden .shape() for å finne ut størrelsen på datasettet"
   ]
  },
  {
   "cell_type": "code",
   "execution_count": null,
   "metadata": {},
   "outputs": [],
   "source": [
    "print(\"\\nHousing data, data størrelse: {} \".format(housing_data.shape))"
   ]
  },
  {
   "cell_type": "markdown",
   "metadata": {},
   "source": [
    "Vi har altså 1460 hus, med 81 ulike egenskaper(features). \n",
    "Dette betyr nødvendigvis ikke at alle hus har alle celler med egenskaper utfylt.\n",
    "Dette tar vi stilling til senere når vi skal fase ut uviktige egenskaper."
   ]
  },
  {
   "cell_type": "markdown",
   "metadata": {},
   "source": [
    "________________________________"
   ]
  },
  {
   "cell_type": "markdown",
   "metadata": {},
   "source": [
    "- Vi ser videre inn i dataene til train.csv for å se hvordan de ulike egenskapene er fordelt med metoden .info()\n",
    "- Kolonne 1: navn på features\n",
    "- Kolonne 2: antall instanser \n",
    "- kolonne 3: datatype \n",
    "    - int64 og float64 er numeriske verdier\n",
    "    - object er ulike kategorier innenfor hver enkelt feature"
   ]
  },
  {
   "cell_type": "code",
   "execution_count": null,
   "metadata": {},
   "outputs": [],
   "source": [
    "train_data.info()"
   ]
  },
  {
   "cell_type": "markdown",
   "metadata": {},
   "source": [
    "___________________"
   ]
  },
  {
   "cell_type": "markdown",
   "metadata": {},
   "source": [
    "- Vi sjekker at dataen vi skal se på er riktig formatert i forhold til innstillingene vi satt i starten\n",
    "- Tallet vi har i parantes angir hvor mange hus vi skal se på. Denne er 5 dersom vi ikke definerer den"
   ]
  },
  {
   "cell_type": "code",
   "execution_count": null,
   "metadata": {},
   "outputs": [],
   "source": [
    "housing_data.head(4)"
   ]
  },
  {
   "cell_type": "markdown",
   "metadata": {},
   "source": [
    "Denne metoden brukes for å genere forklarerende statistikk som blant annet viser sprendningen av dataen innenfor settet.  "
   ]
  },
  {
   "cell_type": "code",
   "execution_count": null,
   "metadata": {},
   "outputs": [],
   "source": [
    "housing_data.describe()"
   ]
  },
  {
   "cell_type": "markdown",
   "metadata": {},
   "source": [
    "- count : Antall instanser av hvert feature. \n",
    "    - Her er 1460 maks antall, dvs at vi feks mangler data fra noen av husene på LoTFrontage (1201/1460)\n",
    "- mean: Gjennomsnittet \n",
    "    -  Gj.snittlig byggeår er 1971\n",
    "- std: Normalfordeling\n",
    "    \n",
    "- min: Minsteverdi\n",
    "\n",
    "- 25% / 50% / 75%: Angir grensen for hvor 25% av dataene faller inn under\n",
    "    -  Under bygningsår ser vi at 25% av husene er bygget før 1954\n",
    "    -  Denne dataen gir en innsikt i hvor vektingen ligger i dataene. \n",
    "    -  Siden bygningsåret øker mindre og mindre jo nærmere 100% vi kommer, sier dette oss hvor flesteparten av dataene ligger. Denne delen er en grei faktor for å luke ut data som ødelegger for majoriteten\n",
    "\n",
    "- Max: Høyeste verdi"
   ]
  },
  {
   "cell_type": "markdown",
   "metadata": {},
   "source": [
    "________________________"
   ]
  },
  {
   "cell_type": "markdown",
   "metadata": {},
   "source": [
    "Her setter vi opp et histogram pr feature, gitt at featuren er numerisk.\n",
    "\n",
    "-  bins: hvor mange søyler vi skal dele histogrammet opp i\n",
    "- figsize: hvor mange pikseler hvert bilde skal ha"
   ]
  },
  {
   "cell_type": "code",
   "execution_count": null,
   "metadata": {},
   "outputs": [],
   "source": [
    "housing_data.hist(bins=15, figsize=(20,20))\n",
    "plt.show()"
   ]
  },
  {
   "cell_type": "markdown",
   "metadata": {},
   "source": [
    "En kort oppsummering av hvilket features et typisk hus har:\n",
    "-  90kvm dersom det kun én etasje\n",
    "-  160kvm dersom to etasjer\n",
    "-  svært få med vinterhage\n",
    "-  minst 2 til 3 soverom\n",
    "-  ca. 40% uten grad 1-Kjeller/bod (standard kjeller uten innlagt strøm)\n",
    "    -  resterende 60% med liten kjeller som gradvis blir mindre fram til ca 180kvm\n",
    "-  85% uten grad 2-Kjeller/bod (typisk verksted/anlegsrom som krever et tørrere miljø)\n",
    "    -  resterende jevnt fordelt fram til ca 70kvm\n",
    "- 60% uten bad i kjeller/bod, av resterende 40% har ca 95% ét bad\n",
    "- 90% uten et lite bad i kjeller/bod\n",
    "- <80kvm med uferdig kjeller/bod\n"
   ]
  },
  {
   "cell_type": "markdown",
   "metadata": {},
   "source": [
    "Dersom vi vil se mer detaljert på et enkelt histogram skriver vi følgende:\n"
   ]
  },
  {
   "cell_type": "code",
   "execution_count": null,
   "metadata": {},
   "outputs": [],
   "source": [
    "housing_data[\"1stFlrSF\"].hist(bins=100, figsize=(20,20))"
   ]
  },
  {
   "cell_type": "markdown",
   "metadata": {},
   "source": [
    "Dersom vi ønsker histogrammet enda mer tydelig kan man dobbeltrykke på selve diagrammet"
   ]
  },
  {
   "cell_type": "markdown",
   "metadata": {},
   "source": [
    "_________________________________"
   ]
  },
  {
   "cell_type": "markdown",
   "metadata": {},
   "source": [
    "### Korrelasjoner"
   ]
  },
  {
   "cell_type": "markdown",
   "metadata": {},
   "source": [
    "Vi vil se om det er noen sammenheng mellom de ulike dataene. Indeksen går fra -1 til 1. Dersom denne er 0, vil denne egenskapen ikke påvirke den egenskaper vi fokuserer på. Er den 1 er den 100% utslagsgivene. Er den negativ vil verdien synke hvis hovedegenskapen øker. \n",
    "\n",
    "Vi starter med å lagre denne i variabelen korrel_matrise"
   ]
  },
  {
   "cell_type": "code",
   "execution_count": null,
   "metadata": {},
   "outputs": [],
   "source": [
    "korrel_matrise = housing_data.corr()"
   ]
  },
  {
   "cell_type": "markdown",
   "metadata": {},
   "source": [
    "Siden oppgaven vår handler om å forutse boligprisen for det gitte området dataene er hentet fra, vil salgsprisen være den egenskapen vi måler korrelasjonen opp mot.\n",
    "Vi velger å sortere de som sykende verdier (ascending=False), slik at det blir mer oversiktlig"
   ]
  },
  {
   "cell_type": "code",
   "execution_count": null,
   "metadata": {},
   "outputs": [],
   "source": [
    "korrel_matrise[\"SalePrice\"].sort_values(ascending=False)"
   ]
  },
  {
   "cell_type": "markdown",
   "metadata": {},
   "source": [
    "-  Vi ser først at egenskapen \"OverallQual\" er den som påvirker boligprisen mest, tett etterfulgt av GrLivArea og GarageCars. \n",
    "-  KitchenAbvGr er den egenskapen som får boligprisen til minke mest\n",
    "-  BsmtFinSF2 er den som påvirker boligprisen minst\n"
   ]
  },
  {
   "cell_type": "markdown",
   "metadata": {},
   "source": [
    "_______________"
   ]
  },
  {
   "cell_type": "markdown",
   "metadata": {},
   "source": [
    "Vi velger så ut 3 egenskaper vi vil forstørre:"
   ]
  },
  {
   "cell_type": "code",
   "execution_count": null,
   "metadata": {},
   "outputs": [],
   "source": [
    "from pandas.plotting import scatter_matrix\n",
    "\n",
    "attributes = [\"SalePrice\", \"OverallQual\", \"GrLivArea\", \"GarageCars\"]\n",
    "\n",
    "scatter_matrix(housing_data[attributes], figsize=(15, 8), alpha=0.3)"
   ]
  },
  {
   "cell_type": "markdown",
   "metadata": {},
   "source": [
    "-  ant. garasjeplasser gjør boligen dyrere, men ikke nødvendigvis\n",
    "-  ant. kvm på boligen har en relativt jevn spredning\n",
    "-  generel kvalitet på boligen ser vi er den som har mest tydelig korrelasjon med boligprisen"
   ]
  },
  {
   "cell_type": "markdown",
   "metadata": {},
   "source": [
    "For å se alt i en helhet er metoden .heatmap() til seaborn grei å bruke. Her vil vi få opp korrelasjonen mellom alle egenskapene i et enkelt diagram, hvor fargekoden gjør det lett å visualisere korrelasjonsdataene. \n",
    "\n",
    "\n",
    "Kilde:  https://seaborn.pydata.org/generated/seaborn.heatmap.html"
   ]
  },
  {
   "cell_type": "code",
   "execution_count": null,
   "metadata": {},
   "outputs": [],
   "source": [
    "# Checking feature correlations\n",
    "import seaborn as sns\n",
    "\n",
    "corr = housing_data.corr()\n",
    "plt.figure(figsize=(15, 8))\n",
    "sns.heatmap(corr, annot=False, cmap='summer', linewidths=0.3)\n",
    "plt.show()"
   ]
  },
  {
   "cell_type": "markdown",
   "metadata": {},
   "source": [
    "# 4. Prepare the data:"
   ]
  },
  {
   "cell_type": "markdown",
   "metadata": {},
   "source": [
    "Denne innleveringen er noe ufullstendig, men skal oppdatere den slik at denne blir fullstendig. Har jobbet i felleskap med Elisabeth Hovden på oppgaven som hun har levert. "
   ]
  },
  {
   "cell_type": "code",
   "execution_count": null,
   "metadata": {},
   "outputs": [],
   "source": []
  }
 ],
 "metadata": {
  "kernelspec": {
   "display_name": "Python 3",
   "language": "python",
   "name": "python3"
  },
  "language_info": {
   "codemirror_mode": {
    "name": "ipython",
    "version": 3
   },
   "file_extension": ".py",
   "mimetype": "text/x-python",
   "name": "python",
   "nbconvert_exporter": "python",
   "pygments_lexer": "ipython3",
   "version": "3.7.0"
  }
 },
 "nbformat": 4,
 "nbformat_minor": 2
}
